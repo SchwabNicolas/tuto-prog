{
 "cells": [
  {
   "cell_type": "markdown",
   "metadata": {},
   "source": [
    "# Programmation d'application\n",
    "## Langage utilisé\n",
    "Pour ces exercices, nous allons utiliser le langage Python.\n",
    "## Les variables\n",
    "Nous allons voir dans cette petite série d'exercices les rudiments de la programmation.\n",
    "\n",
    "Dans un programme, on **manipule des données**. Elles peuvent être de différents **types**.\n",
    "\n",
    "Les données sont construites à partir de briques élémentaires que l'on nomme **variables**. Le fait de créer une variable s'appelle initialiser une variable."
   ]
  },
  {
   "cell_type": "code",
   "execution_count": 1,
   "metadata": {},
   "outputs": [],
   "source": [
    "\n",
    "\n",
    "# Déclaration d'un nombre entier \n",
    "nombre = 12\n",
    "\n",
    "# Déclaration d'un nombre décimal\n",
    "nombre_decimal = 17.5\n",
    "\n",
    "# Déclaration d'une chaîne de caractère (texte)\n",
    "texte = \"Bonjour les stagiaires !\"\n",
    "\n",
    "# Déclaration d'un booléen (vrai ou faux)\n",
    "booleen = True"
   ]
  },
  {
   "cell_type": "code",
   "execution_count": 2,
   "metadata": {},
   "outputs": [
    {
     "output_type": "display_data",
     "data": {
      "text/plain": "<IPython.core.display.HTML object>",
      "text/html": "\n<p>\nValeur de <code>nombre</code> : 12<br>\nValeur de <code>nombre_decimal</code> : 17.5<br>\nValeur de <code>texte</code> : Bonjour les stagiaires !<br>\nValeur de <code>booleen</code> : True<br>\n</p>\n"
     },
     "metadata": {}
    }
   ],
   "source": [
    "from IPython.core.display import display, HTML\n",
    "\n",
    "# Affiche les valeurs\n",
    "output = f'''\n",
    "<p>\n",
    "Valeur de <code>nombre</code> : {nombre}<br>\n",
    "Valeur de <code>nombre_decimal</code> : {nombre_decimal}<br>\n",
    "Valeur de <code>texte</code> : {texte}<br>\n",
    "Valeur de <code>booleen</code> : {booleen}<br>\n",
    "</p>\n",
    "'''\n",
    "display(HTML(output))"
   ]
  },
  {
   "cell_type": "markdown",
   "metadata": {},
   "source": [
    "## Exercice 1\n",
    "Essayez d'initialiser une variable s'appelant **fruit** et ayant la valeur **pomme**. "
   ]
  },
  {
   "cell_type": "code",
   "execution_count": 3,
   "metadata": {},
   "outputs": [
    {
     "output_type": "display_data",
     "data": {
      "text/plain": "Textarea(value='', description='Réponse', placeholder='')",
      "application/vnd.jupyter.widget-view+json": {
       "version_major": 2,
       "version_minor": 0,
       "model_id": "79a611ea20e74b119daf31990946fc5b"
      }
     },
     "metadata": {}
    },
    {
     "output_type": "display_data",
     "data": {
      "text/plain": "Output()",
      "application/vnd.jupyter.widget-view+json": {
       "version_major": 2,
       "version_minor": 0,
       "model_id": "8bb14594ba8a42c8b7b955aa3ab0ea21"
      }
     },
     "metadata": {}
    }
   ],
   "source": [
    "import ipywidgets as widgets\n",
    "from IPython.display import clear_output\n",
    "from IPython.core.display import display, HTML\n",
    "\n",
    "rep_1_ex_1 = widgets.Textarea(\n",
    "    value='',\n",
    "    placeholder='',\n",
    "    description='Réponse',\n",
    "    disabled=False\n",
    ")\n",
    "out_1_ex_1 = widgets.Output()\n",
    "\n",
    "display(rep_1_ex_1, out_1_ex_1)\n",
    "\n",
    "def validate_rep_1_ex_1(change):\n",
    "    bonnes_reponses = [\n",
    "        \"fruit = \\\"pomme\\\"\",\n",
    "        \"fruit= \\\"pomme\\\"\",\n",
    "        \"fruit =\\\"pomme\\\"\",\n",
    "        \"fruit=\\\"pomme\\\"\"\n",
    "    ]\n",
    "\n",
    "    with out_1_ex_1:\n",
    "        if change['new'] in bonnes_reponses:\n",
    "            clear_output(wait=False)\n",
    "            display(HTML(\"<p>Bonne réponse !</p>\"))\n",
    "        else:\n",
    "            clear_output(wait=False)\n",
    "rep_1_ex_1.observe(validate_rep_1_ex_1, names='value')"
   ]
  },
  {
   "cell_type": "markdown",
   "metadata": {},
   "source": [
    "Essayez d'initialiser une variable s'appelant **hauteur_tour_eiffel** et ayant la valeur **300**."
   ]
  },
  {
   "cell_type": "code",
   "execution_count": 4,
   "metadata": {},
   "outputs": [
    {
     "output_type": "display_data",
     "data": {
      "text/plain": "Textarea(value='', description='Réponse', placeholder='')",
      "application/vnd.jupyter.widget-view+json": {
       "version_major": 2,
       "version_minor": 0,
       "model_id": "ac0e71815250415986c51e1382329a56"
      }
     },
     "metadata": {}
    },
    {
     "output_type": "display_data",
     "data": {
      "text/plain": "Output()",
      "application/vnd.jupyter.widget-view+json": {
       "version_major": 2,
       "version_minor": 0,
       "model_id": "6b1a7bee8d9e4f1e92c9def2e5573d10"
      }
     },
     "metadata": {}
    }
   ],
   "source": [
    "import ipywidgets as widgets\n",
    "from IPython.display import clear_output\n",
    "from IPython.core.display import display, HTML\n",
    "\n",
    "rep_2_ex_1 = widgets.Textarea(\n",
    "    value='',\n",
    "    placeholder='',\n",
    "    description='Réponse',\n",
    "    disabled=False\n",
    ")\n",
    "out_2_ex_1 = widgets.Output()\n",
    "\n",
    "display(rep_2_ex_1, out_2_ex_1)\n",
    "\n",
    "def validate_rep_2_ex_1(change):\n",
    "    bonnes_reponses = [\n",
    "        \"hauteur_tour_eiffel = 300\",\n",
    "        \"hauteur_tour_eiffel =300\",\n",
    "        \"hauteur_tour_eiffel= 300\",\n",
    "        \"hauteur_tour_eiffel=300\",\n",
    "    ]\n",
    "    with out_2_ex_1:\n",
    "        if change['new'] in bonnes_reponses:\n",
    "            clear_output(wait=False)\n",
    "            display(HTML(\"<p>Bonne réponse !</p>\"))\n",
    "        else:\n",
    "            clear_output(wait=False)\n",
    "rep_2_ex_1.observe(validate_rep_2_ex_1, names='value')"
   ]
  },
  {
   "cell_type": "markdown",
   "metadata": {},
   "source": [
    "## Les opérations\n",
    "Avec ces seules données, on ne peut pas faire grand chose. On va pouvoir utiliser des opérateurs afin de faire des calculs avec des nombres.\n",
    "### Opérateur d'assignation\n",
    "<style>\n",
    "    th, td {\n",
    "        text-align: center; \n",
    "        vertical-align: middle;\n",
    "    }\n",
    "</style>\n",
    "<table>\n",
    "    <tr>\n",
    "        <th>Symbole</th>\n",
    "        <th>Opérateur</th>\n",
    "        <th>Description</th>\n",
    "    </tr>\n",
    "    <tr>\n",
    "        <td>=</td>\n",
    "        <td>Assignation</td>\n",
    "        <td>Mets le contenu à droite dans la variable à gauche.</td>\n",
    "    </tr>\n",
    "</table>\n"
   ]
  }
 ],
 "metadata": {
  "kernelspec": {
   "display_name": "Python 3",
   "language": "python",
   "name": "python3"
  },
  "language_info": {
   "codemirror_mode": {
    "name": "ipython",
    "version": 3
   },
   "file_extension": ".py",
   "mimetype": "text/x-python",
   "name": "python",
   "nbconvert_exporter": "python",
   "pygments_lexer": "ipython3",
   "version": "3.7.9-final"
  }
 },
 "nbformat": 4,
 "nbformat_minor": 2
}