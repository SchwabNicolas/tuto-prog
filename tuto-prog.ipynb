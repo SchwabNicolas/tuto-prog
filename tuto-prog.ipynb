{
 "metadata": {
  "language_info": {
   "codemirror_mode": {
    "name": "ipython",
    "version": 3
   },
   "file_extension": ".py",
   "mimetype": "text/x-python",
   "name": "python",
   "nbconvert_exporter": "python",
   "pygments_lexer": "ipython3",
   "version": "3.7.9-final"
  },
  "orig_nbformat": 2,
  "kernelspec": {
   "name": "python_defaultSpec_1600851202145",
   "display_name": "Python 3.7.9 64-bit"
  }
 },
 "nbformat": 4,
 "nbformat_minor": 2,
 "cells": [
  {
   "cell_type": "code",
   "execution_count": 9,
   "metadata": {
    "tags": []
   },
   "outputs": [
    {
     "output_type": "execute_result",
     "data": {
      "text/plain": "<IPython.core.display.HTML object>",
      "text/html": "</div>"
     },
     "metadata": {},
     "execution_count": 9
    }
   ],
   "source": [
    "from __future__ import print_function\n",
    "from IPython.display import display, clear_output\n",
    "from IPython.display import HTML as html_print\n",
    "from ipywidgets import interact, interactive, fixed, interact_manual, IntSlider\n",
    "import ipywidgets as widgets\n",
    "\n",
    "html_print('<div class=\"hidden\"')\n",
    "\n",
    "html_print('''\n",
    "<style>\n",
    "    .hidden {\n",
    "        display: none;\n",
    "        visibility: hidden;\n",
    "    }\n",
    "</style>\n",
    "''')\n",
    "\n",
    "html_print('</div>')"
   ]
  },
  {
   "source": [
    "# Programmation d'application\n",
    "## Les variables\n",
    "Nous allons voir dans cette petite série d'exercices les rudiments de la programmation.\n",
    "\n",
    "Dans un programme, on **manipule des données**. Elles peuvent être de différents **types**.\n",
    "\n",
    "Les données sont construites à partir de briques élémentaires que l'on nomme **variables**. Le fait de créer une variable s'appelle initialiser une variable."
   ],
   "cell_type": "markdown",
   "metadata": {}
  },
  {
   "source": [
    "# Déclaration d'un nombre entier \n",
    "nombre = 12\n",
    "\n",
    "# Déclaration d'un nombre décimal\n",
    "nombre_decimal = 17.5\n",
    "\n",
    "# Déclaration d'une chaîne de caractère (texte)\n",
    "texte = \"Bonjour les stagiaires!\"\n",
    "\n",
    "# Déclaration d'un booléen (vrai ou faux)\n",
    "booleen = True"
   ],
   "cell_type": "code",
   "metadata": {},
   "execution_count": 6,
   "outputs": []
  },
  {
   "source": [
    "## Exercice 1\n",
    "Essayez d'initialiser une variable s'appelant **fruit** et ayant la valeur **pomme**. "
   ],
   "cell_type": "markdown",
   "metadata": {}
  },
  {
   "cell_type": "code",
   "execution_count": 7,
   "metadata": {},
   "outputs": [
    {
     "output_type": "display_data",
     "data": {
      "text/plain": "Textarea(value='', description='Réponse', placeholder='')",
      "application/vnd.jupyter.widget-view+json": {
       "version_major": 2,
       "version_minor": 0,
       "model_id": "c68ccf300b73443abc501187f8edffd3"
      }
     },
     "metadata": {}
    },
    {
     "output_type": "display_data",
     "data": {
      "text/plain": "Output()",
      "application/vnd.jupyter.widget-view+json": {
       "version_major": 2,
       "version_minor": 0,
       "model_id": "5439f46de0214f90b37ebfb015e2b07a"
      }
     },
     "metadata": {}
    },
    {
     "output_type": "execute_result",
     "data": {
      "text/plain": "<IPython.core.display.HTML object>",
      "text/html": "</div>"
     },
     "metadata": {},
     "execution_count": 7
    }
   ],
   "source": [
    "html_print('<div class=\"hidden\">')\n",
    "\n",
    "rep_1_ex_1 = widgets.Textarea(\n",
    "    value='',\n",
    "    placeholder='',\n",
    "    description='Réponse',\n",
    "    disabled=False\n",
    ")\n",
    "out_1_ex_1 = widgets.Output()\n",
    "\n",
    "display(rep_1_ex_1, out_1_ex_1)\n",
    "\n",
    "def validate_rep_1_ex_1(change):\n",
    "    with out_1_ex_1:\n",
    "        if(change['new'].strip() == \"fruit=\\\"pomme\\\"\"):\n",
    "            clear_output(wait=False)\n",
    "            print(\"Bonne réponse !\", file=sys.stdout)\n",
    "        else:\n",
    "            clear_output(wait=False)\n",
    "rep_1_ex_1.observe(validate_rep_1_ex_1, names='value')\n",
    "html_print('</div>')"
   ]
  },
  {
   "source": [
    "Essayez d'initialiser une variable s'appelant **hauteur_tour_eiffel** et ayant la valeur **300**."
   ],
   "cell_type": "markdown",
   "metadata": {}
  },
  {
   "cell_type": "code",
   "execution_count": 8,
   "metadata": {},
   "outputs": [
    {
     "output_type": "display_data",
     "data": {
      "text/plain": "Textarea(value='', description='Réponse', placeholder='')",
      "application/vnd.jupyter.widget-view+json": {
       "version_major": 2,
       "version_minor": 0,
       "model_id": "d82b0d1e2a3c4ba09c92f60a524f613d"
      }
     },
     "metadata": {}
    },
    {
     "output_type": "display_data",
     "data": {
      "text/plain": "Output()",
      "application/vnd.jupyter.widget-view+json": {
       "version_major": 2,
       "version_minor": 0,
       "model_id": "273e814e8206446b8ab4c65acf525546"
      }
     },
     "metadata": {}
    }
   ],
   "source": [
    "rep_2_ex_1 = widgets.Textarea(\n",
    "    value='',\n",
    "    placeholder='',\n",
    "    description='Réponse',\n",
    "    disabled=False\n",
    ")\n",
    "out_2_ex_1 = widgets.Output()\n",
    "\n",
    "display(rep_2_ex_1, out_2_ex_1)\n",
    "\n",
    "def validate_rep_2_ex_1(change):\n",
    "    with out_2_ex_1:\n",
    "        if(change['new'].strip() == \"hauteur_tour_eiffel=300\"):\n",
    "            clear_output(wait=False)\n",
    "            print(\"Bonne réponse !\", file=sys.stdout)\n",
    "        else:\n",
    "            clear_output(wait=False)\n",
    "rep_2_ex_1.observe(validate_rep_2_ex_1, names='value')"
   ]
  },
  {
   "cell_type": "code",
   "execution_count": 35,
   "metadata": {},
   "outputs": [
    {
     "output_type": "display_data",
     "data": {
      "text/plain": "Textarea(value='dfsdfdfsdfdfsdfdsfs', description='Réponse', placeholder='')",
      "application/vnd.jupyter.widget-view+json": {
       "version_major": 2,
       "version_minor": 0,
       "model_id": "03b9ac36938647a2b1d9f73d123da59b"
      }
     },
     "metadata": {}
    },
    {
     "output_type": "display_data",
     "data": {
      "text/plain": "Output()",
      "application/vnd.jupyter.widget-view+json": {
       "version_major": 2,
       "version_minor": 0,
       "model_id": "6ef51453c0f547eb8330a6cf0818140f"
      }
     },
     "metadata": {}
    }
   ],
   "source": []
  },
  {
   "source": [
    "## Les opérations\n"
   ],
   "cell_type": "markdown",
   "metadata": {}
  }
 ]
}